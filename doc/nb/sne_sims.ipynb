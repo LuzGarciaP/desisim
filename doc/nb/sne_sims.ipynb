{
 "cells": [
  {
   "cell_type": "markdown",
   "metadata": {},
   "source": [
    "# SNe Ia Simulations\n",
    "\n",
    "The goal of this notebook is to carry out a set of spectral simulations which include SNe Ia templates in the host-galaxy spectra.\n",
    "\n",
    "#### Interactive queue:\n",
    "  salloc -N 1 -p debug -L project\n",
    "  srun -n 1 -c 64 python bgs-sims.py --sim 4 --nproc 64 --zfind\n",
    "\n",
    "#### Regular queue:\n",
    "  [see the bgs-sims-zfind.sh script]\n",
    "  sbatch bgs-sims-zfind.sh\n",
    "  squeue -u ioannis\n",
    "  sqs -u ioannis\n",
    "  \n",
    "##### Simulation 1:\n",
    "  Nominal exposure time.\n",
    "  Fixed r mag (19.5)\n",
    "  Fixed moon-zenith (30 deg)\n",
    "  Fixed moon-phase (0.25)\n",
    "  Vary moon-angle (0-150)\n"
   ]
  },
  {
   "cell_type": "code",
   "execution_count": 1,
   "metadata": {},
   "outputs": [],
   "source": [
    "import os\n",
    "import numpy as np\n",
    "\n",
    "import healpy as hp\n",
    "from astropy.table import Table"
   ]
  },
  {
   "cell_type": "code",
   "execution_count": 2,
   "metadata": {
    "collapsed": true
   },
   "outputs": [],
   "source": [
    "import desisim.io\n",
    "import desispec.io\n",
    "import desimodel.io \n",
    "\n",
    "from desisim.obs import new_exposure\n",
    "from desisim.scripts import quickgen\n",
    "from desisim.templates import specify_galparams_dict"
   ]
  },
  {
   "cell_type": "code",
   "execution_count": 3,
   "metadata": {
    "collapsed": true
   },
   "outputs": [],
   "source": [
    "#import desimodel.io\n",
    "#import desimodel.footprint\n",
    "#from redrock.external.desi import rrdesi\n",
    "#from desispec.parallel import use_mpi\n",
    "#import desispec.scripts.group_spectra as group_spectra"
   ]
  },
  {
   "cell_type": "code",
   "execution_count": 4,
   "metadata": {
    "collapsed": true
   },
   "outputs": [],
   "source": [
    "%matplotlib inline"
   ]
  },
  {
   "cell_type": "markdown",
   "metadata": {},
   "source": [
    "### Simulation number and input priors"
   ]
  },
  {
   "cell_type": "code",
   "execution_count": 5,
   "metadata": {
    "collapsed": true
   },
   "outputs": [],
   "source": [
    "sim = 1\n",
    "program = 'BGS'\n",
    "\n",
    "seed = 678245\n",
    "nexp = 5\n",
    "nspec = 3\n",
    "nreps = 2"
   ]
  },
  {
   "cell_type": "code",
   "execution_count": 6,
   "metadata": {
    "collapsed": true
   },
   "outputs": [],
   "source": [
    "seeing_range = [1.0, 1.0]\n",
    "airmass_range = [1.0, 1.0]\n",
    "sne_rfluxratiorange = [0.1, 1.0]"
   ]
  },
  {
   "cell_type": "code",
   "execution_count": 7,
   "metadata": {
    "collapsed": true
   },
   "outputs": [],
   "source": [
    "moon_phase_range = [0.25, 0.25]\n",
    "rmagrange = [19.5, 19.5]\n",
    "zrange = [0.1, 0.3]\n",
    "moon_zenith_range = [30, 30]\n",
    "exptime_range = [300,300]\n",
    "moon_angle_range = [0, 150]"
   ]
  },
  {
   "cell_type": "code",
   "execution_count": 8,
   "metadata": {},
   "outputs": [
    {
     "name": "stdout",
     "output_type": "stream",
     "text": [
      "Simulation name = 01, Night = 20170101, Number of exposures = 5\n",
      "Exposure IDs = [1000 1001 1002 1003 1004 1005 1006 1007 1008 1009]\n"
     ]
    }
   ],
   "source": [
    "simint = int(sim)\n",
    "simname = '{:02d}'.format(simint)\n",
    "night = '2017'+simname+simname\n",
    "expids = np.arange(nexp*nreps) + simint*1000\n",
    "print('Simulation name = {}, Night = {}, Number of exposures = {}'.format(simname, night, nexp))\n",
    "print('Exposure IDs = {}'.format(expids))"
   ]
  },
  {
   "cell_type": "markdown",
   "metadata": {},
   "source": [
    "### Define the I/O simulation directories."
   ]
  },
  {
   "cell_type": "code",
   "execution_count": 9,
   "metadata": {},
   "outputs": [
    {
     "name": "stdout",
     "output_type": "stream",
     "text": [
      "Simulated raw data will be written to /Users/ioannis/work/desi/spectro/sim/snesim-01/\n",
      "Pipeline will read raw data from /Users/ioannis/work/desi/spectro/sim/snesim-01/\n",
      "Pipeline will write processed data to /Users/ioannis/work/desi/spectro/redux/snesim-01\n"
     ]
    }
   ],
   "source": [
    "os.environ['PIXPROD'] = 'snesim-{}'.format(simname)\n",
    "os.environ['SPECPROD'] = 'snesim-{}'.format(simname)\n",
    "os.environ['DESI_SPECTRO_DATA'] = desisim.io.simdir()\n",
    "\n",
    "print('Simulated raw data will be written to {}'.format(desisim.io.simdir()))\n",
    "print('Pipeline will read raw data from {}'.format(desispec.io.rawdata_root()))\n",
    "print('Pipeline will write processed data to {}'.format(desispec.io.specprod_root()))"
   ]
  },
  {
   "cell_type": "markdown",
   "metadata": {},
   "source": [
    "### Assign exposures to different tiles.\n",
    "\n",
    "This step is necessary to keep the spectra from all stacking on the default tile, and ensures that each tile will have a dedicated set of observing conditions."
   ]
  },
  {
   "cell_type": "code",
   "execution_count": 10,
   "metadata": {},
   "outputs": [
    {
     "name": "stdout",
     "output_type": "stream",
     "text": [
      "Selecting the following tiles:\n"
     ]
    },
    {
     "data": {
      "text/html": [
       "&lt;Table length=5&gt;\n",
       "<table id=\"table4530593352\" class=\"table-striped table-bordered table-condensed\">\n",
       "<thead><tr><th>TILEID</th><th>RA</th><th>DEC</th><th>PASS</th><th>IN_DESI</th><th>EBV_MED</th><th>AIRMASS</th><th>STAR_DENSITY</th><th>EXPOSEFAC</th><th>PROGRAM</th><th>OBSCONDITIONS</th></tr></thead>\n",
       "<thead><tr><th>int32</th><th>float64</th><th>float64</th><th>int16</th><th>int16</th><th>float32</th><th>float32</th><th>float32</th><th>float32</th><th>str6</th><th>int32</th></tr></thead>\n",
       "<tr><td>22594</td><td>130.08</td><td>18.03</td><td>3</td><td>1</td><td>0.0255654</td><td>1.06033</td><td>2664.73</td><td>1.25706</td><td>DARK</td><td>1</td></tr>\n",
       "<tr><td>40476</td><td>129.32</td><td>17.9</td><td>7</td><td>1</td><td>0.0281447</td><td>1.06097</td><td>2753.01</td><td>1.27791</td><td>BRIGHT</td><td>4</td></tr>\n",
       "<tr><td>16832</td><td>128.99</td><td>18.05</td><td>2</td><td>1</td><td>0.0298504</td><td>1.06023</td><td>2795.41</td><td>1.29012</td><td>DARK</td><td>1</td></tr>\n",
       "<tr><td>28356</td><td>131.17</td><td>18.02</td><td>4</td><td>1</td><td>0.0231459</td><td>1.06038</td><td>2514.4</td><td>1.23876</td><td>GRAY</td><td>2</td></tr>\n",
       "<tr><td>11069</td><td>130.26</td><td>16.58</td><td>1</td><td>1</td><td>0.0251414</td><td>1.06783</td><td>2711.23</td><td>1.26491</td><td>DARK</td><td>1</td></tr>\n",
       "</table>"
      ],
      "text/plain": [
       "<Table length=5>\n",
       "TILEID    RA     DEC    PASS ... STAR_DENSITY EXPOSEFAC PROGRAM OBSCONDITIONS\n",
       "int32  float64 float64 int16 ...   float32     float32    str6      int32    \n",
       "------ ------- ------- ----- ... ------------ --------- ------- -------------\n",
       " 22594  130.08   18.03     3 ...      2664.73   1.25706    DARK             1\n",
       " 40476  129.32    17.9     7 ...      2753.01   1.27791  BRIGHT             4\n",
       " 16832  128.99   18.05     2 ...      2795.41   1.29012    DARK             1\n",
       " 28356  131.17   18.02     4 ...       2514.4   1.23876    GRAY             2\n",
       " 11069  130.26   16.58     1 ...      2711.23   1.26491    DARK             1"
      ]
     },
     "execution_count": 10,
     "metadata": {},
     "output_type": "execute_result"
    }
   ],
   "source": [
    "tiles = desimodel.io.load_tiles()\n",
    "xyz = hp.ang2vec(tiles['ra'], tiles['dec'], lonlat=True)\n",
    "center = hp.ang2vec(130, 18, lonlat=True)\n",
    "d2 = ((xyz - center)**2).sum(axis=1)\n",
    "tiles = tiles[np.argsort(d2)[0:nexp]]\n",
    "print('Selecting the following tiles:')\n",
    "Table(tiles)"
   ]
  },
  {
   "cell_type": "markdown",
   "metadata": {},
   "source": [
    "### Generate nexp uniform samplings of the simulation parameters."
   ]
  },
  {
   "cell_type": "code",
   "execution_count": 11,
   "metadata": {
    "collapsed": true
   },
   "outputs": [],
   "source": [
    "rand = np.random.RandomState(seed)"
   ]
  },
  {
   "cell_type": "code",
   "execution_count": 12,
   "metadata": {
    "collapsed": true
   },
   "outputs": [],
   "source": [
    "seeds = rand.randint(2**32, size=nexp)\n",
    "seeings = rand.uniform(seeing_range[0], seeing_range[1], nexp)\n",
    "exptimes = rand.uniform(exptime_range[0], exptime_range[1], nexp)\n",
    "airmasses = rand.uniform(airmass_range[0], airmass_range[1], nexp)\n",
    "moonphases = rand.uniform(moon_phase_range[0], moon_phase_range[1], nexp)\n",
    "moonangles = rand.uniform(moon_angle_range[0], moon_angle_range[1], nexp)\n",
    "moonzeniths = rand.uniform(moon_zenith_range[0], moon_zenith_range[1], nexp)"
   ]
  },
  {
   "cell_type": "code",
   "execution_count": 13,
   "metadata": {},
   "outputs": [
    {
     "name": "stdout",
     "output_type": "stream",
     "text": [
      "{'BGS': {'rmagrange': (19.5, 19.5), 'zrange': (0.1, 0.3)}}\n"
     ]
    }
   ],
   "source": [
    "allobj_specs = dict()\n",
    "allobj_specs[program] = specify_galparams_dict(\n",
    "    program, \n",
    "    zrange=(zrange[0], zrange[1]), \n",
    "    magrange=(rmagrange[0],rmagrange[1]))\n",
    "print(allobj_specs)"
   ]
  },
  {
   "cell_type": "code",
   "execution_count": 14,
   "metadata": {},
   "outputs": [
    {
     "name": "stdout",
     "output_type": "stream",
     "text": [
      "DEBUG:obs.py:101:new_exposure: Generating 3 targets\n",
      "DEBUG:targets.py:195:get_targets_parallel: Not Parallelizing get_targets for only 3 targets\n",
      "DEBUG:targets.py:262:get_targets: Using random seed 1800636030\n",
      "INFO:io.py:787:read_basis_templates: Reading /Users/ioannis/work/desi/spectro/templates/basis_templates/v2.3/star_templates_v2.1.fits\n",
      "DEBUG:simexp.py:371:simulate_spectra: loading specsim desi config\n",
      "DEBUG:simexp.py:375:simulate_spectra: creating specsim desi simulator\n",
      "DEBUG:specsim.py:39:get_simulator: Creating new  Simulator\n",
      "WARNING:specsim.py:47:get_simulator: Treating BGS fiberloss = 0.5 * LRG fiberloss\n"
     ]
    },
    {
     "name": "stderr",
     "output_type": "stream",
     "text": [
      "/usr/local/anaconda3/envs/desi/lib/python3.5/site-packages/astropy/table/column.py:1096: MaskedArrayFutureWarning: setting an item on a masked array which has a shared mask will not copy the mask and also change the original mask array in the future.\n",
      "Check the NumPy 1.11 release notes for more information.\n",
      "  ma.MaskedArray.__setitem__(self, index, value)\n"
     ]
    },
    {
     "name": "stdout",
     "output_type": "stream",
     "text": [
      "INFO:simexp.py:396:simulate_spectra: MJD not in obsconditions, using DATE-OBS 2009-06-18T12:00:00.000\n",
      "DEBUG:simexp.py:400:simulate_spectra: obsconditions MOONALT = 30.0\n",
      "DEBUG:simexp.py:400:simulate_spectra: obsconditions EXPTIME = 300.0\n",
      "DEBUG:simexp.py:400:simulate_spectra: obsconditions MOONFRAC = 0.25\n",
      "DEBUG:simexp.py:400:simulate_spectra: obsconditions MOONSEP = 122.14476512451438\n",
      "DEBUG:simexp.py:400:simulate_spectra: obsconditions AIRMASS = 1.0\n",
      "DEBUG:simexp.py:400:simulate_spectra: obsconditions SEEING = 1.0\n",
      "DEBUG:simexp.py:518:get_source_types: sky 2 targets\n",
      "DEBUG:simexp.py:518:get_source_types: star 1 targets\n",
      "DEBUG:simexp.py:436:simulate_spectra: running simulation\n",
      "INFO:io.py:147:write_simspec: DATE-OBS 2017-01-01T22:00:00 UTC\n",
      "INFO:io.py:223:write_simspec: Writing /Users/ioannis/work/desi/spectro/sim/snesim-01/20170101/simspec-00001000.fits\n"
     ]
    },
    {
     "name": "stderr",
     "output_type": "stream",
     "text": [
      "WARNING: The unit 'dex' could not be saved to FITS format [astropy.io.fits.convenience]\n"
     ]
    },
    {
     "name": "stdout",
     "output_type": "stream",
     "text": [
      "INFO:obs.py:211:new_exposure: Wrote /Users/ioannis/work/desi/spectro/sim/snesim-01/20170101/fibermap-00001000.fits\n"
     ]
    },
    {
     "ename": "IntegrityError",
     "evalue": "datatype mismatch",
     "output_type": "error",
     "traceback": [
      "\u001b[0;31m---------------------------------------------------------------------------\u001b[0m",
      "\u001b[0;31mIntegrityError\u001b[0m                            Traceback (most recent call last)",
      "\u001b[0;32m<ipython-input-14-b934aa4ec141>\u001b[0m in \u001b[0;36m<module>\u001b[0;34m()\u001b[0m\n\u001b[1;32m      8\u001b[0m                                                       \u001b[0mobsconditions\u001b[0m\u001b[0;34m=\u001b[0m\u001b[0mobsconditions\u001b[0m\u001b[0;34m,\u001b[0m\u001b[0;34m\u001b[0m\u001b[0m\n\u001b[1;32m      9\u001b[0m                                                       \u001b[0mspecify_targets\u001b[0m\u001b[0;34m=\u001b[0m\u001b[0mallobj_specs\u001b[0m\u001b[0;34m,\u001b[0m\u001b[0;34m\u001b[0m\u001b[0m\n\u001b[0;32m---> 10\u001b[0;31m                                                       overwrite=True)\n\u001b[0m",
      "\u001b[0;32m~/repos/desihub/desisim/py/desisim/obs.py\u001b[0m in \u001b[0;36mnew_exposure\u001b[0;34m(program, nspec, night, expid, tileid, seed, obsconditions, specify_targets, testslit, exptime, arc_lines_filename, flat_spectrum_filename, overwrite)\u001b[0m\n\u001b[1;32m    211\u001b[0m     \u001b[0mlog\u001b[0m\u001b[0;34m.\u001b[0m\u001b[0minfo\u001b[0m\u001b[0;34m(\u001b[0m\u001b[0;34m'Wrote '\u001b[0m\u001b[0;34m+\u001b[0m\u001b[0mfiberfile\u001b[0m\u001b[0;34m)\u001b[0m\u001b[0;34m\u001b[0m\u001b[0m\n\u001b[1;32m    212\u001b[0m \u001b[0;34m\u001b[0m\u001b[0m\n\u001b[0;32m--> 213\u001b[0;31m     \u001b[0mupdate_obslog\u001b[0m\u001b[0;34m(\u001b[0m\u001b[0mobstype\u001b[0m\u001b[0;34m=\u001b[0m\u001b[0;34m'science'\u001b[0m\u001b[0;34m,\u001b[0m \u001b[0mprogram\u001b[0m\u001b[0;34m=\u001b[0m\u001b[0mprogram\u001b[0m\u001b[0;34m,\u001b[0m \u001b[0mexpid\u001b[0m\u001b[0;34m=\u001b[0m\u001b[0mexpid\u001b[0m\u001b[0;34m,\u001b[0m \u001b[0mdateobs\u001b[0m\u001b[0;34m=\u001b[0m\u001b[0mdateobs\u001b[0m\u001b[0;34m,\u001b[0m \u001b[0mtileid\u001b[0m\u001b[0;34m=\u001b[0m\u001b[0mtileid\u001b[0m\u001b[0;34m)\u001b[0m\u001b[0;34m\u001b[0m\u001b[0m\n\u001b[0m\u001b[1;32m    214\u001b[0m \u001b[0;34m\u001b[0m\u001b[0m\n\u001b[1;32m    215\u001b[0m     \u001b[0;31m#- Restore $DESI_SPECTRO_DATA\u001b[0m\u001b[0;34m\u001b[0m\u001b[0;34m\u001b[0m\u001b[0m\n",
      "\u001b[0;32m~/repos/desihub/desisim/py/desisim/obs.py\u001b[0m in \u001b[0;36mupdate_obslog\u001b[0;34m(obstype, program, expid, dateobs, tileid, ra, dec)\u001b[0m\n\u001b[1;32m    447\u001b[0m     \u001b[0mVALUES\u001b[0m \u001b[0;34m(\u001b[0m\u001b[0;31m?\u001b[0m\u001b[0;34m,\u001b[0m\u001b[0;31m?\u001b[0m\u001b[0;34m,\u001b[0m\u001b[0;31m?\u001b[0m\u001b[0;34m,\u001b[0m\u001b[0;31m?\u001b[0m\u001b[0;34m,\u001b[0m\u001b[0;31m?\u001b[0m\u001b[0;34m,\u001b[0m\u001b[0;31m?\u001b[0m\u001b[0;34m,\u001b[0m\u001b[0;31m?\u001b[0m\u001b[0;34m,\u001b[0m\u001b[0;31m?\u001b[0m\u001b[0;34m)\u001b[0m\u001b[0;34m\u001b[0m\u001b[0m\n\u001b[1;32m    448\u001b[0m     \"\"\"\n\u001b[0;32m--> 449\u001b[0;31m     \u001b[0mdb\u001b[0m\u001b[0;34m.\u001b[0m\u001b[0mexecute\u001b[0m\u001b[0;34m(\u001b[0m\u001b[0minsert\u001b[0m\u001b[0;34m,\u001b[0m \u001b[0;34m(\u001b[0m\u001b[0mexpid\u001b[0m\u001b[0;34m,\u001b[0m \u001b[0mtime\u001b[0m\u001b[0;34m.\u001b[0m\u001b[0mmktime\u001b[0m\u001b[0;34m(\u001b[0m\u001b[0mdateobs\u001b[0m\u001b[0;34m)\u001b[0m\u001b[0;34m,\u001b[0m \u001b[0mnight\u001b[0m\u001b[0;34m,\u001b[0m \u001b[0mobstype\u001b[0m\u001b[0;34m.\u001b[0m\u001b[0mupper\u001b[0m\u001b[0;34m(\u001b[0m\u001b[0;34m)\u001b[0m\u001b[0;34m,\u001b[0m \u001b[0mprogram\u001b[0m\u001b[0;34m.\u001b[0m\u001b[0mupper\u001b[0m\u001b[0;34m(\u001b[0m\u001b[0;34m)\u001b[0m\u001b[0;34m,\u001b[0m \u001b[0mtileid\u001b[0m\u001b[0;34m,\u001b[0m \u001b[0mra\u001b[0m\u001b[0;34m,\u001b[0m \u001b[0mdec\u001b[0m\u001b[0;34m)\u001b[0m\u001b[0;34m)\u001b[0m\u001b[0;34m\u001b[0m\u001b[0m\n\u001b[0m\u001b[1;32m    450\u001b[0m     \u001b[0mdb\u001b[0m\u001b[0;34m.\u001b[0m\u001b[0mcommit\u001b[0m\u001b[0;34m(\u001b[0m\u001b[0;34m)\u001b[0m\u001b[0;34m\u001b[0m\u001b[0m\n\u001b[1;32m    451\u001b[0m \u001b[0;34m\u001b[0m\u001b[0m\n",
      "\u001b[0;31mIntegrityError\u001b[0m: datatype mismatch"
     ]
    }
   ],
   "source": [
    "for ii in range(1):\n",
    "    obsconditions = {'SEEING' : seeings[ii], 'EXPTIME': exptimes[ii], 'AIRMASS': airmasses[ii],\n",
    "                     'MOONFRAC': moonphases[ii], 'MOONALT': moonzeniths[ii], 'MOONSEP': moonangles[ii]}\n",
    "    \n",
    "    sim, fibermap, meta, obsconditions = new_exposure(program=program, seed=seeds[ii],\n",
    "                                                      nspec=nspec, night=night,\n",
    "                                                      expid=expids[ii], tileid=tiles[ii][0],\n",
    "                                                      obsconditions=obsconditions, \n",
    "                                                      specify_targets=allobj_specs,\n",
    "                                                      overwrite=True)"
   ]
  }
 ],
 "metadata": {
  "kernelspec": {
   "display_name": "Python 3",
   "language": "python",
   "name": "python3"
  },
  "language_info": {
   "codemirror_mode": {
    "name": "ipython",
    "version": 3
   },
   "file_extension": ".py",
   "mimetype": "text/x-python",
   "name": "python",
   "nbconvert_exporter": "python",
   "pygments_lexer": "ipython3",
   "version": "3.5.3"
  }
 },
 "nbformat": 4,
 "nbformat_minor": 1
}
