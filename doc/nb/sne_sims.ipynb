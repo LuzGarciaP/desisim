{
 "cells": [
  {
   "cell_type": "markdown",
   "metadata": {},
   "source": [
    "# SNe Ia Simulations\n",
    "\n",
    "The goal of this notebook is to carry out a set of spectral simulations which include SNe Ia templates in the host-galaxy spectra."
   ]
  },
  {
   "cell_type": "code",
   "execution_count": 1,
   "metadata": {},
   "outputs": [],
   "source": [
    "import os\n",
    "import numpy as np\n",
    "\n",
    "import fitsio\n",
    "import healpy as hp\n",
    "import matplotlib.pyplot as plt\n",
    "from astropy.table import Table"
   ]
  },
  {
   "cell_type": "code",
   "execution_count": 2,
   "metadata": {},
   "outputs": [
    {
     "name": "stderr",
     "output_type": "stream",
     "text": [
      "/usr/local/anaconda3/envs/desi/lib/python3.5/site-packages/matplotlib/__init__.py:1405: UserWarning: \n",
      "This call to matplotlib.use() has no effect because the backend has already\n",
      "been chosen; matplotlib.use() must be called *before* pylab, matplotlib.pyplot,\n",
      "or matplotlib.backends is imported for the first time.\n",
      "\n",
      "  warnings.warn(_use_error_msg)\n"
     ]
    }
   ],
   "source": [
    "import desisim.io\n",
    "import desispec.io\n",
    "import desimodel.io \n",
    "\n",
    "from desisim.obs import new_exposure\n",
    "from desisim.scripts import quickgen\n",
    "from desisim.templates import specify_galparams_dict\n",
    "\n",
    "from desispec.scripts import group_spectra"
   ]
  },
  {
   "cell_type": "code",
   "execution_count": 3,
   "metadata": {
    "collapsed": true
   },
   "outputs": [],
   "source": [
    "%matplotlib inline"
   ]
  },
  {
   "cell_type": "markdown",
   "metadata": {},
   "source": [
    "### Simulation number and input priors"
   ]
  },
  {
   "cell_type": "code",
   "execution_count": 4,
   "metadata": {
    "collapsed": true
   },
   "outputs": [],
   "source": [
    "sim = 1\n",
    "program = 'BGS'\n",
    "\n",
    "seed = 678245\n",
    "nexp = 5\n",
    "nspec = 10"
   ]
  },
  {
   "cell_type": "code",
   "execution_count": 5,
   "metadata": {
    "collapsed": true
   },
   "outputs": [],
   "source": [
    "rmagrange = (19.0, 19.0)\n",
    "zrange = (0.2, 0.2)\n",
    "sne_rfluxratiorange = (0.5, 0.5)"
   ]
  },
  {
   "cell_type": "code",
   "execution_count": 6,
   "metadata": {
    "collapsed": true
   },
   "outputs": [],
   "source": [
    "airmass_range = (1.0, 1.0)\n",
    "seeing_range = (1.0, 1.0)\n",
    "moon_phase_range = (0.25, 0.25)\n",
    "moon_zenith_range = (30, 30)\n",
    "exptime_range = (600, 600)\n",
    "moon_angle_range = (0, 150)"
   ]
  },
  {
   "cell_type": "code",
   "execution_count": 7,
   "metadata": {},
   "outputs": [
    {
     "name": "stdout",
     "output_type": "stream",
     "text": [
      "Simulation name = 01, Night = 20170101, Number of exposures = 5\n",
      "Exposure IDs = [1000 1001 1002 1003 1004]\n"
     ]
    }
   ],
   "source": [
    "simint = int(sim)\n",
    "simname = '{:02d}'.format(simint)\n",
    "night = '2017{}{}'.format(simname, simname)\n",
    "expids = np.arange(nexp) + simint*1000\n",
    "print('Simulation name = {}, Night = {}, Number of exposures = {}'.format(simname, night, nexp))\n",
    "print('Exposure IDs = {}'.format(expids))"
   ]
  },
  {
   "cell_type": "markdown",
   "metadata": {},
   "source": [
    "### Define the I/O simulation directories."
   ]
  },
  {
   "cell_type": "code",
   "execution_count": 8,
   "metadata": {},
   "outputs": [
    {
     "name": "stdout",
     "output_type": "stream",
     "text": [
      "Simulated raw data will be written to /Users/ioannis/work/desi/spectro/sim/snesim-01/\n",
      "Pipeline will read raw data from /Users/ioannis/work/desi/spectro/sim/snesim-01/\n",
      "Pipeline will write processed data to /Users/ioannis/work/desi/spectro/redux/snesim-01\n"
     ]
    }
   ],
   "source": [
    "os.environ['PIXPROD'] = 'snesim-{}'.format(simname)\n",
    "os.environ['SPECPROD'] = 'snesim-{}'.format(simname)\n",
    "os.environ['DESI_SPECTRO_DATA'] = desisim.io.simdir()\n",
    "\n",
    "print('Simulated raw data will be written to {}'.format(desisim.io.simdir()))\n",
    "print('Pipeline will read raw data from {}'.format(desispec.io.rawdata_root()))\n",
    "print('Pipeline will write processed data to {}'.format(desispec.io.specprod_root()))"
   ]
  },
  {
   "cell_type": "markdown",
   "metadata": {},
   "source": [
    "### Assign exposures to different tiles.\n",
    "\n",
    "This step is necessary to keep the spectra from all stacking on the default tile, and ensures that each tile will have a dedicated set of observing conditions."
   ]
  },
  {
   "cell_type": "code",
   "execution_count": 9,
   "metadata": {},
   "outputs": [
    {
     "name": "stdout",
     "output_type": "stream",
     "text": [
      "Selecting the following tiles:\n"
     ]
    },
    {
     "data": {
      "text/html": [
       "&lt;Table length=5&gt;\n",
       "<table id=\"table4690873144\" class=\"table-striped table-bordered table-condensed\">\n",
       "<thead><tr><th>TILEID</th><th>RA</th><th>DEC</th><th>PASS</th><th>IN_DESI</th><th>EBV_MED</th><th>AIRMASS</th><th>STAR_DENSITY</th><th>EXPOSEFAC</th><th>PROGRAM</th><th>OBSCONDITIONS</th></tr></thead>\n",
       "<thead><tr><th>int32</th><th>float64</th><th>float64</th><th>int16</th><th>int16</th><th>float32</th><th>float32</th><th>float32</th><th>float32</th><th>str6</th><th>int32</th></tr></thead>\n",
       "<tr><td>22594</td><td>130.08</td><td>18.03</td><td>3</td><td>1</td><td>0.0255654</td><td>1.06033</td><td>2664.73</td><td>1.25706</td><td>DARK</td><td>1</td></tr>\n",
       "<tr><td>40476</td><td>129.32</td><td>17.9</td><td>7</td><td>1</td><td>0.0281447</td><td>1.06097</td><td>2753.01</td><td>1.27791</td><td>BRIGHT</td><td>4</td></tr>\n",
       "<tr><td>16832</td><td>128.99</td><td>18.05</td><td>2</td><td>1</td><td>0.0298504</td><td>1.06023</td><td>2795.41</td><td>1.29012</td><td>DARK</td><td>1</td></tr>\n",
       "<tr><td>28356</td><td>131.17</td><td>18.02</td><td>4</td><td>1</td><td>0.0231459</td><td>1.06038</td><td>2514.4</td><td>1.23876</td><td>GRAY</td><td>2</td></tr>\n",
       "<tr><td>11069</td><td>130.26</td><td>16.58</td><td>1</td><td>1</td><td>0.0251414</td><td>1.06783</td><td>2711.23</td><td>1.26491</td><td>DARK</td><td>1</td></tr>\n",
       "</table>"
      ],
      "text/plain": [
       "<Table length=5>\n",
       "TILEID    RA     DEC    PASS ... STAR_DENSITY EXPOSEFAC PROGRAM OBSCONDITIONS\n",
       "int32  float64 float64 int16 ...   float32     float32    str6      int32    \n",
       "------ ------- ------- ----- ... ------------ --------- ------- -------------\n",
       " 22594  130.08   18.03     3 ...      2664.73   1.25706    DARK             1\n",
       " 40476  129.32    17.9     7 ...      2753.01   1.27791  BRIGHT             4\n",
       " 16832  128.99   18.05     2 ...      2795.41   1.29012    DARK             1\n",
       " 28356  131.17   18.02     4 ...       2514.4   1.23876    GRAY             2\n",
       " 11069  130.26   16.58     1 ...      2711.23   1.26491    DARK             1"
      ]
     },
     "execution_count": 9,
     "metadata": {},
     "output_type": "execute_result"
    }
   ],
   "source": [
    "tiles = desimodel.io.load_tiles()\n",
    "xyz = hp.ang2vec(tiles['ra'], tiles['dec'], lonlat=True)\n",
    "center = hp.ang2vec(130, 18, lonlat=True)\n",
    "d2 = ((xyz - center)**2).sum(axis=1)\n",
    "tiles = tiles[np.argsort(d2)[0:nexp]]\n",
    "print('Selecting the following tiles:')\n",
    "Table(tiles)"
   ]
  },
  {
   "cell_type": "code",
   "execution_count": 10,
   "metadata": {},
   "outputs": [
    {
     "name": "stdout",
     "output_type": "stream",
     "text": [
      "Healpix pixels = [4330 4331 4334 4335 4346 4672 4673 4674 4675 4676 4677 4678 4679 4680 4681\n",
      " 4682 4683 4684 4685 4686 4687 4688 4689 4690 4691 4694 4696 4697 4698 4699\n",
      " 4705 4708 4709 4710 4720]\n"
     ]
    }
   ],
   "source": [
    "nside = 64 \n",
    "pixels = desimodel.footprint.tiles2pix(nside, tiles)\n",
    "print('Healpix pixels = {}'.format(pixels))"
   ]
  },
  {
   "cell_type": "markdown",
   "metadata": {},
   "source": [
    "### Generate nexp uniform samplings of the simulation parameters."
   ]
  },
  {
   "cell_type": "code",
   "execution_count": 11,
   "metadata": {
    "collapsed": true
   },
   "outputs": [],
   "source": [
    "rand = np.random.RandomState(seed)"
   ]
  },
  {
   "cell_type": "code",
   "execution_count": 12,
   "metadata": {
    "collapsed": true
   },
   "outputs": [],
   "source": [
    "seeds = rand.randint(2**32, size=nexp)\n",
    "seeings = rand.uniform(seeing_range[0], seeing_range[1], nexp)\n",
    "exptimes = rand.uniform(exptime_range[0], exptime_range[1], nexp)\n",
    "airmasses = rand.uniform(airmass_range[0], airmass_range[1], nexp)\n",
    "moonphases = rand.uniform(moon_phase_range[0], moon_phase_range[1], nexp)\n",
    "moonangles = rand.uniform(moon_angle_range[0], moon_angle_range[1], nexp)\n",
    "moonzeniths = rand.uniform(moon_zenith_range[0], moon_zenith_range[1], nexp)"
   ]
  },
  {
   "cell_type": "code",
   "execution_count": 13,
   "metadata": {},
   "outputs": [
    {
     "name": "stdout",
     "output_type": "stream",
     "text": [
      "{'zrange': (0.2, 0.2), 'rmagrange': (19.0, 19.0), 'add_SNeIa': True, 'sne_rfluxratiorange': (0.5, 0.5)}\n"
     ]
    }
   ],
   "source": [
    "allobj_specs = dict()\n",
    "allobj_specs[program] = specify_galparams_dict(\n",
    "    program, \n",
    "    zrange = zrange,\n",
    "    magrange = rmagrange, \n",
    "    sne_rfluxratiorange = sne_rfluxratiorange,\n",
    "    add_SNeIa = True,\n",
    ")\n",
    "print(allobj_specs[program])"
   ]
  },
  {
   "cell_type": "code",
   "execution_count": 14,
   "metadata": {},
   "outputs": [
    {
     "name": "stdout",
     "output_type": "stream",
     "text": [
      "DEBUG:obs.py:101:new_exposure: Generating 10 targets\n",
      "DEBUG:targets.py:195:get_targets_parallel: Not Parallelizing get_targets for only 10 targets\n",
      "DEBUG:targets.py:262:get_targets: Using random seed 1800636030\n",
      "INFO:io.py:787:read_basis_templates: Reading /Users/ioannis/work/desi/spectro/templates/basis_templates/v2.3/bgs_templates_v2.1.fits\n",
      "INFO:io.py:787:read_basis_templates: Reading /Users/ioannis/work/desi/spectro/templates/basis_templates/v2.3/sne_templates_v1.0.fits\n",
      "DEBUG:templates.py:361:_blurmatrix: Populating blur matrix with 1 unique velocity dispersion values.\n",
      "INFO:io.py:787:read_basis_templates: Reading /Users/ioannis/work/desi/spectro/templates/basis_templates/v2.3/star_templates_v2.1.fits\n",
      "DEBUG:simexp.py:371:simulate_spectra: loading specsim desi config\n",
      "DEBUG:simexp.py:375:simulate_spectra: creating specsim desi simulator\n",
      "DEBUG:specsim.py:39:get_simulator: Creating new  Simulator\n",
      "WARNING:specsim.py:47:get_simulator: Treating BGS fiberloss = 0.5 * LRG fiberloss\n",
      "INFO:simexp.py:396:simulate_spectra: MJD not in obsconditions, using DATE-OBS 2009-06-18T12:00:00.000\n",
      "DEBUG:simexp.py:400:simulate_spectra: obsconditions MOONFRAC = 0.25\n",
      "DEBUG:simexp.py:400:simulate_spectra: obsconditions MOONSEP = 122.14476512451438\n",
      "DEBUG:simexp.py:400:simulate_spectra: obsconditions EXPTIME = 600.0\n",
      "DEBUG:simexp.py:400:simulate_spectra: obsconditions AIRMASS = 1.0\n",
      "DEBUG:simexp.py:400:simulate_spectra: obsconditions MOONALT = 30.0\n",
      "DEBUG:simexp.py:400:simulate_spectra: obsconditions SEEING = 1.0\n"
     ]
    },
    {
     "name": "stderr",
     "output_type": "stream",
     "text": [
      "/usr/local/anaconda3/envs/desi/lib/python3.5/site-packages/astropy/table/column.py:1096: MaskedArrayFutureWarning: setting an item on a masked array which has a shared mask will not copy the mask and also change the original mask array in the future.\n",
      "Check the NumPy 1.11 release notes for more information.\n",
      "  ma.MaskedArray.__setitem__(self, index, value)\n"
     ]
    },
    {
     "name": "stdout",
     "output_type": "stream",
     "text": [
      "DEBUG:simexp.py:518:get_source_types: bgs 7 targets\n",
      "DEBUG:simexp.py:518:get_source_types: sky 2 targets\n",
      "DEBUG:simexp.py:518:get_source_types: star 1 targets\n",
      "DEBUG:simexp.py:436:simulate_spectra: running simulation\n",
      "INFO:io.py:147:write_simspec: DATE-OBS 2017-01-01T22:00:00 UTC\n",
      "INFO:io.py:223:write_simspec: Writing /Users/ioannis/work/desi/spectro/sim/snesim-01/20170101/simspec-00001000.fits\n"
     ]
    },
    {
     "name": "stderr",
     "output_type": "stream",
     "text": [
      "WARNING: The unit 'dex' could not be saved to FITS format [astropy.io.fits.convenience]\n"
     ]
    },
    {
     "name": "stdout",
     "output_type": "stream",
     "text": [
      "INFO:obs.py:211:new_exposure: Wrote /Users/ioannis/work/desi/spectro/sim/snesim-01/20170101/fibermap-00001000.fits\n",
      "Commenting out update_obslog!!!\n",
      "INFO:quickgen.py:239:main: Reading fibermap file /Users/ioannis/work/desi/spectro/sim/snesim-01/20170101/fibermap-00001000.fits\n",
      "DEBUG:simexp.py:518:get_source_types: bgs 7 targets\n",
      "DEBUG:simexp.py:518:get_source_types: sky 2 targets\n",
      "DEBUG:simexp.py:518:get_source_types: star 1 targets\n",
      "INFO:quickgen.py:272:main: Initializing SpecSim with config desi\n",
      "DEBUG:specsim.py:39:get_simulator: Creating new desi Simulator\n",
      "WARNING:specsim.py:47:get_simulator: Treating BGS fiberloss = 0.5 * LRG fiberloss\n",
      "INFO:quickgen.py:278:main: Reading input file /Users/ioannis/work/desi/spectro/sim/snesim-01/20170101/simspec-00001000.fits\n",
      "INFO:quickgen.py:314:main: Only 10 spectra in input file\n",
      "INFO:quickgen.py:677:main: Writing files for channel:b, spectrograph:0, spectra:0 to 10\n",
      "INFO:quickgen.py:704:main: Wrote file /Users/ioannis/work/desi/spectro/redux/snesim-01/exposures/20170101/00001000/frame-b0-00001000.fits\n",
      "INFO:quickgen.py:722:main: Wrote file /Users/ioannis/work/desi/spectro/redux/snesim-01/exposures/20170101/00001000/cframe-b0-00001000.fits\n",
      "INFO:quickgen.py:737:main: Wrote file /Users/ioannis/work/desi/spectro/redux/snesim-01/exposures/20170101/00001000/sky-b0-00001000.fits\n",
      "INFO:quickgen.py:758:main: Wrote file /Users/ioannis/work/desi/spectro/redux/snesim-01/exposures/20170101/00001000/calib-b0-00001000.fits\n",
      "INFO:quickgen.py:677:main: Writing files for channel:r, spectrograph:0, spectra:0 to 10\n",
      "INFO:quickgen.py:704:main: Wrote file /Users/ioannis/work/desi/spectro/redux/snesim-01/exposures/20170101/00001000/frame-r0-00001000.fits\n"
     ]
    },
    {
     "name": "stderr",
     "output_type": "stream",
     "text": [
      "WARNING: VerifyWarning: Card is too long, comment will be truncated. [astropy.io.fits.card]\n"
     ]
    },
    {
     "name": "stdout",
     "output_type": "stream",
     "text": [
      "INFO:quickgen.py:722:main: Wrote file /Users/ioannis/work/desi/spectro/redux/snesim-01/exposures/20170101/00001000/cframe-r0-00001000.fits\n",
      "INFO:quickgen.py:737:main: Wrote file /Users/ioannis/work/desi/spectro/redux/snesim-01/exposures/20170101/00001000/sky-r0-00001000.fits\n",
      "INFO:quickgen.py:758:main: Wrote file /Users/ioannis/work/desi/spectro/redux/snesim-01/exposures/20170101/00001000/calib-r0-00001000.fits\n",
      "INFO:quickgen.py:677:main: Writing files for channel:z, spectrograph:0, spectra:0 to 10\n",
      "INFO:quickgen.py:704:main: Wrote file /Users/ioannis/work/desi/spectro/redux/snesim-01/exposures/20170101/00001000/frame-z0-00001000.fits\n",
      "INFO:quickgen.py:722:main: Wrote file /Users/ioannis/work/desi/spectro/redux/snesim-01/exposures/20170101/00001000/cframe-z0-00001000.fits\n",
      "INFO:quickgen.py:737:main: Wrote file /Users/ioannis/work/desi/spectro/redux/snesim-01/exposures/20170101/00001000/sky-z0-00001000.fits\n",
      "INFO:quickgen.py:758:main: Wrote file /Users/ioannis/work/desi/spectro/redux/snesim-01/exposures/20170101/00001000/calib-z0-00001000.fits\n"
     ]
    }
   ],
   "source": [
    "for ii in range(1):\n",
    "    obsconditions = {'SEEING' : seeings[ii], 'EXPTIME': exptimes[ii], 'AIRMASS': airmasses[ii],\n",
    "                     'MOONFRAC': moonphases[ii], 'MOONALT': moonzeniths[ii], 'MOONSEP': moonangles[ii]}\n",
    "    \n",
    "    sim, fibermap, meta, obsconditions = new_exposure(program=program, seed=seeds[ii],\n",
    "                                                      nspec=nspec, night=night,\n",
    "                                                      expid=expids[ii], tileid=tiles[ii][0],\n",
    "                                                      obsconditions=obsconditions, \n",
    "                                                      specify_targets=allobj_specs,\n",
    "                                                      overwrite=True)\n",
    "    \n",
    "    quickgen_args = quickgen.parse([\n",
    "        '--simspec', desisim.io.findfile('simspec', night, expids[ii]),\n",
    "        '--fibermap', desisim.io.findfile('simfibermap', night, expids[ii]),\n",
    "        '--seed', str(seeds[ii])\n",
    "    ])\n",
    "    quickgen.main(quickgen_args)"
   ]
  },
  {
   "cell_type": "code",
   "execution_count": 15,
   "metadata": {},
   "outputs": [
    {
     "data": {
      "text/plain": [
       "\n",
       "  file: /Users/ioannis/work/desi/spectro/sim/snesim-01/20170101/simspec-00001000.fits\n",
       "  mode: READONLY\n",
       "  extnum hdutype         hduname[v]\n",
       "  0      IMAGE_HDU       WAVE\n",
       "  1      IMAGE_HDU       FLUX\n",
       "  2      IMAGE_HDU       SKYFLUX\n",
       "  3      IMAGE_HDU       WAVE_B\n",
       "  4      IMAGE_HDU       PHOT_B\n",
       "  5      IMAGE_HDU       SKYPHOT_B\n",
       "  6      IMAGE_HDU       WAVE_R\n",
       "  7      IMAGE_HDU       PHOT_R\n",
       "  8      IMAGE_HDU       SKYPHOT_R\n",
       "  9      IMAGE_HDU       WAVE_Z\n",
       "  10     IMAGE_HDU       PHOT_Z\n",
       "  11     IMAGE_HDU       SKYPHOT_Z\n",
       "  12     BINARY_TBL      TRUTH\n",
       "  13     BINARY_TBL      FIBERMAP\n",
       "  14     BINARY_TBL      OBSCONDITIONS"
      ]
     },
     "execution_count": 15,
     "metadata": {},
     "output_type": "execute_result"
    }
   ],
   "source": [
    "simspecfits = fitsio.FITS(desisim.io.findfile('simspec', night, expids[0]))\n",
    "simspecfits"
   ]
  },
  {
   "cell_type": "code",
   "execution_count": 16,
   "metadata": {},
   "outputs": [
    {
     "data": {
      "text/html": [
       "&lt;Table length=1&gt;\n",
       "<table id=\"table4690982112\" class=\"table-striped table-bordered table-condensed\">\n",
       "<thead><tr><th>AIRMASS</th><th>EXPTIME</th><th>MOONALT</th><th>MOONFRAC</th><th>MOONSEP</th><th>SEEING</th></tr></thead>\n",
       "<thead><tr><th>float64</th><th>float64</th><th>float64</th><th>float64</th><th>float64</th><th>float64</th></tr></thead>\n",
       "<tr><td>1.0</td><td>600.0</td><td>30.0</td><td>0.25</td><td>122.144765125</td><td>1.0</td></tr>\n",
       "</table>"
      ],
      "text/plain": [
       "<Table length=1>\n",
       "AIRMASS EXPTIME MOONALT MOONFRAC    MOONSEP     SEEING\n",
       "float64 float64 float64 float64     float64    float64\n",
       "------- ------- ------- -------- ------------- -------\n",
       "    1.0   600.0    30.0     0.25 122.144765125     1.0"
      ]
     },
     "execution_count": 16,
     "metadata": {},
     "output_type": "execute_result"
    }
   ],
   "source": [
    "Table(simspecfits['OBSCONDITIONS'].read())"
   ]
  },
  {
   "cell_type": "code",
   "execution_count": 17,
   "metadata": {},
   "outputs": [
    {
     "data": {
      "text/html": [
       "&lt;Table length=10&gt;\n",
       "<table id=\"table4831318928\" class=\"table-striped table-bordered table-condensed\">\n",
       "<thead><tr><th>OBJTYPE</th><th>SUBTYPE</th><th>TEMPLATEID</th><th>SEED</th><th>REDSHIFT</th><th>MAG</th><th>FLUX_G</th><th>FLUX_R</th><th>FLUX_Z</th><th>FLUX_W1</th><th>FLUX_W2</th><th>OIIFLUX</th><th>HBETAFLUX</th><th>EWOII</th><th>EWHBETA</th><th>D4000</th><th>VDISP</th><th>OIIDOUBLET</th><th>OIIIHBETA</th><th>OIIHBETA</th><th>NIIHBETA</th><th>SIIHBETA</th><th>ZMETAL</th><th>AGE</th><th>TEFF</th><th>LOGG</th><th>FEH</th></tr></thead>\n",
       "<thead><tr><th>bytes10</th><th>bytes10</th><th>int32</th><th>int64</th><th>float32</th><th>float32</th><th>float32</th><th>float32</th><th>float32</th><th>float32</th><th>float32</th><th>float32</th><th>float32</th><th>float32</th><th>float32</th><th>float32</th><th>float32</th><th>float32</th><th>float32</th><th>float32</th><th>float32</th><th>float32</th><th>float32</th><th>float32</th><th>float32</th><th>float32</th><th>float32</th></tr></thead>\n",
       "<tr><td>BGS</td><td></td><td>1486</td><td>615974893</td><td>0.2</td><td>19.0</td><td>9.05856</td><td>25.1189</td><td>36.3922</td><td>29.6011</td><td>23.9983</td><td>-1.0</td><td>0.0</td><td>-1.0</td><td>0.0</td><td>1.68271</td><td>101.393</td><td>0.812913</td><td>-0.577526</td><td>0.0148598</td><td>0.0287722</td><td>-0.223423</td><td>-1.0</td><td>-1.0</td><td>-1.0</td><td>-1.0</td><td>-1.0</td></tr>\n",
       "<tr><td>BGS</td><td></td><td>453</td><td>2388722153</td><td>0.2</td><td>19.0</td><td>14.5668</td><td>25.1189</td><td>34.5096</td><td>32.1215</td><td>26.6477</td><td>-1.0</td><td>0.0</td><td>-1.0</td><td>0.0</td><td>1.66012</td><td>101.393</td><td>0.844736</td><td>0.244524</td><td>0.441384</td><td>-0.471636</td><td>-0.451952</td><td>-1.0</td><td>-1.0</td><td>-1.0</td><td>-1.0</td><td>-1.0</td></tr>\n",
       "<tr><td>BGS</td><td></td><td>2106</td><td>1537356348</td><td>0.2</td><td>19.0</td><td>19.0935</td><td>25.1189</td><td>25.8174</td><td>17.5885</td><td>16.3384</td><td>-1.0</td><td>5.37215e-16</td><td>-1.0</td><td>11.7057</td><td>1.15039</td><td>101.393</td><td>0.786791</td><td>0.806695</td><td>0.0114448</td><td>-1.56563</td><td>-1.0452</td><td>-1.0</td><td>-1.0</td><td>-1.0</td><td>-1.0</td><td>-1.0</td></tr>\n",
       "<tr><td>SKY</td><td></td><td>-1</td><td>-1</td><td>0.0</td><td>-1.0</td><td>0.0</td><td>0.0</td><td>0.0</td><td>0.0</td><td>0.0</td><td>-1.0</td><td>-1.0</td><td>-1.0</td><td>-1.0</td><td>-1.0</td><td>-1.0</td><td>-1.0</td><td>-1.0</td><td>-1.0</td><td>-1.0</td><td>-1.0</td><td>-1.0</td><td>-1.0</td><td>-1.0</td><td>-1.0</td><td>-1.0</td></tr>\n",
       "<tr><td>FSTD</td><td></td><td>533</td><td>615974893</td><td>0.000524233</td><td>16.3556</td><td>216.471</td><td>286.929</td><td>315.509</td><td>84.3881</td><td>47.2535</td><td>-1.0</td><td>-1.0</td><td>-1.0</td><td>-1.0</td><td>-1.0</td><td>-1.0</td><td>-1.0</td><td>-1.0</td><td>-1.0</td><td>-1.0</td><td>-1.0</td><td>-1.0</td><td>-1.0</td><td>6000.0</td><td>4.0</td><td>-2.5</td></tr>\n",
       "<tr><td>BGS</td><td></td><td>3080</td><td>1395253339</td><td>0.2</td><td>19.0</td><td>8.55577</td><td>25.1189</td><td>38.4547</td><td>39.6557</td><td>33.1323</td><td>-1.0</td><td>0.0</td><td>-1.0</td><td>0.0</td><td>1.91616</td><td>101.393</td><td>0.802047</td><td>-0.0335126</td><td>0.438712</td><td>-0.192215</td><td>-0.470078</td><td>-1.0</td><td>-1.0</td><td>-1.0</td><td>-1.0</td><td>-1.0</td></tr>\n",
       "<tr><td>BGS</td><td></td><td>3222</td><td>2109587489</td><td>0.2</td><td>19.0</td><td>18.0005</td><td>25.1189</td><td>27.5125</td><td>25.0472</td><td>23.7713</td><td>-1.0</td><td>4.70925e-16</td><td>-1.0</td><td>9.71795</td><td>1.18718</td><td>101.393</td><td>0.827255</td><td>-0.320544</td><td>0.262373</td><td>0.0184941</td><td>0.167621</td><td>-1.0</td><td>-1.0</td><td>-1.0</td><td>-1.0</td><td>-1.0</td></tr>\n",
       "<tr><td>BGS</td><td></td><td>3144</td><td>1765536105</td><td>0.2</td><td>19.0</td><td>10.7055</td><td>25.1189</td><td>36.292</td><td>36.9685</td><td>28.9585</td><td>-1.0</td><td>0.0</td><td>-1.0</td><td>0.0</td><td>1.97526</td><td>101.393</td><td>0.681986</td><td>-0.272869</td><td>0.303555</td><td>0.112697</td><td>0.0176023</td><td>-1.0</td><td>-1.0</td><td>-1.0</td><td>-1.0</td><td>-1.0</td></tr>\n",
       "<tr><td>SKY</td><td></td><td>-1</td><td>-1</td><td>0.0</td><td>-1.0</td><td>0.0</td><td>0.0</td><td>0.0</td><td>0.0</td><td>0.0</td><td>-1.0</td><td>-1.0</td><td>-1.0</td><td>-1.0</td><td>-1.0</td><td>-1.0</td><td>-1.0</td><td>-1.0</td><td>-1.0</td><td>-1.0</td><td>-1.0</td><td>-1.0</td><td>-1.0</td><td>-1.0</td><td>-1.0</td><td>-1.0</td></tr>\n",
       "<tr><td>BGS</td><td></td><td>199</td><td>2051242414</td><td>0.2</td><td>19.0</td><td>12.9895</td><td>25.1189</td><td>35.4122</td><td>35.3653</td><td>28.571</td><td>-1.0</td><td>0.0</td><td>-1.0</td><td>0.0</td><td>1.76754</td><td>101.393</td><td>0.740416</td><td>0.603334</td><td>0.536562</td><td>-0.795404</td><td>-0.36324</td><td>-1.0</td><td>-1.0</td><td>-1.0</td><td>-1.0</td><td>-1.0</td></tr>\n",
       "</table>"
      ],
      "text/plain": [
       "<Table length=10>\n",
       "OBJTYPE SUBTYPE TEMPLATEID    SEED    ...   AGE     TEFF    LOGG    FEH  \n",
       "bytes10 bytes10   int32      int64    ... float32 float32 float32 float32\n",
       "------- ------- ---------- ---------- ... ------- ------- ------- -------\n",
       "    BGS               1486  615974893 ...    -1.0    -1.0    -1.0    -1.0\n",
       "    BGS                453 2388722153 ...    -1.0    -1.0    -1.0    -1.0\n",
       "    BGS               2106 1537356348 ...    -1.0    -1.0    -1.0    -1.0\n",
       "    SKY                 -1         -1 ...    -1.0    -1.0    -1.0    -1.0\n",
       "   FSTD                533  615974893 ...    -1.0  6000.0     4.0    -2.5\n",
       "    BGS               3080 1395253339 ...    -1.0    -1.0    -1.0    -1.0\n",
       "    BGS               3222 2109587489 ...    -1.0    -1.0    -1.0    -1.0\n",
       "    BGS               3144 1765536105 ...    -1.0    -1.0    -1.0    -1.0\n",
       "    SKY                 -1         -1 ...    -1.0    -1.0    -1.0    -1.0\n",
       "    BGS                199 2051242414 ...    -1.0    -1.0    -1.0    -1.0"
      ]
     },
     "execution_count": 17,
     "metadata": {},
     "output_type": "execute_result"
    }
   ],
   "source": [
    "Table(simspecfits['TRUTH'].read())"
   ]
  },
  {
   "cell_type": "code",
   "execution_count": 18,
   "metadata": {},
   "outputs": [
    {
     "data": {
      "text/html": [
       "&lt;Table length=10&gt;\n",
       "<table id=\"table4707849608\" class=\"table-striped table-bordered table-condensed\">\n",
       "<thead><tr><th>OBJTYPE</th><th>TARGETCAT</th><th>BRICKNAME</th><th>TARGETID</th><th>DESI_TARGET</th><th>BGS_TARGET</th><th>MWS_TARGET</th><th>MAG [5]</th><th>FILTER [5]</th><th>SPECTROID</th><th>POSITIONER</th><th>LOCATION</th><th>DEVICE_LOC</th><th>PETAL_LOC</th><th>FIBER</th><th>LAMBDAREF</th><th>RA_TARGET</th><th>DEC_TARGET</th><th>RA_OBS</th><th>DEC_OBS</th><th>X_TARGET</th><th>Y_TARGET</th><th>X_FVCOBS</th><th>Y_FVCOBS</th><th>Y_FVCERR</th><th>X_FVCERR</th></tr></thead>\n",
       "<thead><tr><th>bytes10</th><th>bytes20</th><th>bytes8</th><th>int64</th><th>int64</th><th>int64</th><th>int64</th><th>float32</th><th>bytes40</th><th>int32</th><th>int64</th><th>int32</th><th>int32</th><th>int32</th><th>int32</th><th>float32</th><th>float64</th><th>float64</th><th>float64</th><th>float64</th><th>float64</th><th>float64</th><th>float64</th><th>float64</th><th>float32</th><th>float32</th></tr></thead>\n",
       "<tr><td>BGS</td><td></td><td>1300p187</td><td>7406197882867160669</td><td>1152921504606846976</td><td>2</td><td>0</td><td>20.1074 .. 19.0496</td><td>DECAM_G .. WISE_W2</td><td>0</td><td>95</td><td>95</td><td>95</td><td>0</td><td>0</td><td>5400.0</td><td>130.097807355</td><td>18.7478748417</td><td>130.097807355</td><td>18.7478748417</td><td>-4.13464340313</td><td>-176.016389199</td><td>-4.13464340313</td><td>-176.016389199</td><td>0.0</td><td>0.0</td></tr>\n",
       "<tr><td>BGS</td><td></td><td>1303p187</td><td>6257323788419429938</td><td>1152921504606846976</td><td>2</td><td>0</td><td>19.5916 .. 18.9359</td><td>DECAM_G .. WISE_W2</td><td>0</td><td>62</td><td>62</td><td>62</td><td>0</td><td>1</td><td>5400.0</td><td>130.276470593</td><td>18.6714981019</td><td>130.276470593</td><td>18.6714981019</td><td>-45.5863791815</td><td>-157.134697634</td><td>-45.5863791815</td><td>-157.134697634</td><td>0.0</td><td>0.0</td></tr>\n",
       "<tr><td>BGS</td><td></td><td>1303p187</td><td>8774121736903493301</td><td>1152921504606846976</td><td>2</td><td>0</td><td>19.2978 .. 19.467</td><td>DECAM_G .. WISE_W2</td><td>0</td><td>102</td><td>102</td><td>102</td><td>0</td><td>2</td><td>5400.0</td><td>130.287445012</td><td>18.8215394291</td><td>130.287445012</td><td>18.8215394291</td><td>-48.26471976</td><td>-194.58679079</td><td>-48.26471976</td><td>-194.58679079</td><td>0.0</td><td>0.0</td></tr>\n",
       "<tr><td>SKY</td><td></td><td>1303p187</td><td>2033231820972197058</td><td>4294967296</td><td>0</td><td>0</td><td>0.0 .. 0.0</td><td>..</td><td>0</td><td>82</td><td>82</td><td>82</td><td>0</td><td>3</td><td>5400.0</td><td>130.216005387</td><td>18.7340760901</td><td>130.216005387</td><td>18.7340760901</td><td>-31.5795923296</td><td>-172.635369698</td><td>-31.5795923296</td><td>-172.635369698</td><td>0.0</td><td>0.0</td></tr>\n",
       "<tr><td>STD</td><td></td><td>1300p187</td><td>4224267853333412402</td><td>8589934592</td><td>0</td><td>0</td><td>16.6615 .. 18.3139</td><td>DECAM_G .. WISE_W2</td><td>0</td><td>131</td><td>131</td><td>131</td><td>0</td><td>4</td><td>5400.0</td><td>130.051321755</td><td>18.8492200271</td><td>130.051321755</td><td>18.8492200271</td><td>6.67200636809</td><td>-201.385810488</td><td>6.67200636809</td><td>-201.385810488</td><td>0.0</td><td>0.0</td></tr>\n",
       "<tr><td>BGS</td><td></td><td>1300p187</td><td>8093418779481343928</td><td>1152921504606846976</td><td>2</td><td>0</td><td>20.1694 .. 18.6994</td><td>DECAM_G .. WISE_W2</td><td>0</td><td>108</td><td>108</td><td>108</td><td>0</td><td>5</td><td>5400.0</td><td>130.023453433</td><td>18.7701510533</td><td>130.023453433</td><td>18.7701510533</td><td>13.1352857547</td><td>-181.585171402</td><td>13.1352857547</td><td>-181.585171402</td><td>0.0</td><td>0.0</td></tr>\n",
       "<tr><td>BGS</td><td></td><td>1300p187</td><td>8370050490150094129</td><td>1152921504606846976</td><td>2</td><td>0</td><td>19.3618 .. 19.0599</td><td>DECAM_G .. WISE_W2</td><td>0</td><td>119</td><td>119</td><td>119</td><td>0</td><td>6</td><td>5400.0</td><td>130.037330449</td><td>18.8097688704</td><td>130.037330449</td><td>18.8097688704</td><td>9.91914629057</td><td>-191.490598774</td><td>9.91914629057</td><td>-191.490598774</td><td>0.0</td><td>0.0</td></tr>\n",
       "<tr><td>BGS</td><td></td><td>1300p187</td><td>4845693505715794167</td><td>1152921504606846976</td><td>2</td><td>0</td><td>19.926 .. 18.8456</td><td>DECAM_G .. WISE_W2</td><td>0</td><td>64</td><td>64</td><td>64</td><td>0</td><td>7</td><td>5400.0</td><td>130.188403599</td><td>18.6544586893</td><td>130.188403599</td><td>18.6544586893</td><td>-25.1362017254</td><td>-152.830188325</td><td>-25.1362017254</td><td>-152.830188325</td><td>0.0</td><td>0.0</td></tr>\n",
       "<tr><td>SKY</td><td></td><td>1303p187</td><td>7961454327049367540</td><td>4294967296</td><td>0</td><td>0</td><td>0.0 .. 0.0</td><td>..</td><td>0</td><td>72</td><td>72</td><td>72</td><td>0</td><td>8</td><td>5400.0</td><td>130.246304175</td><td>18.70280919</td><td>130.246304175</td><td>18.70280919</td><td>-38.5997312986</td><td>-164.880825023</td><td>-38.5997312986</td><td>-164.880825023</td><td>0.0</td><td>0.0</td></tr>\n",
       "<tr><td>BGS</td><td></td><td>1300p187</td><td>3607414873089757119</td><td>1152921504606846976</td><td>2</td><td>0</td><td>19.716 .. 18.8602</td><td>DECAM_G .. WISE_W2</td><td>0</td><td>145</td><td>145</td><td>145</td><td>0</td><td>9</td><td>5400.0</td><td>129.9775742</td><td>18.8713268591</td><td>129.9775742</td><td>18.8713268591</td><td>23.8443173209</td><td>-206.982712277</td><td>23.8443173209</td><td>-206.982712277</td><td>0.0</td><td>0.0</td></tr>\n",
       "</table>"
      ],
      "text/plain": [
       "<Table length=10>\n",
       "OBJTYPE TARGETCAT BRICKNAME ...    Y_FVCOBS    Y_FVCERR X_FVCERR\n",
       "bytes10  bytes20    bytes8  ...    float64     float32  float32 \n",
       "------- --------- --------- ... -------------- -------- --------\n",
       "    BGS            1300p187 ... -176.016389199      0.0      0.0\n",
       "    BGS            1303p187 ... -157.134697634      0.0      0.0\n",
       "    BGS            1303p187 ...  -194.58679079      0.0      0.0\n",
       "    SKY            1303p187 ... -172.635369698      0.0      0.0\n",
       "    STD            1300p187 ... -201.385810488      0.0      0.0\n",
       "    BGS            1300p187 ... -181.585171402      0.0      0.0\n",
       "    BGS            1300p187 ... -191.490598774      0.0      0.0\n",
       "    BGS            1300p187 ... -152.830188325      0.0      0.0\n",
       "    SKY            1303p187 ... -164.880825023      0.0      0.0\n",
       "    BGS            1300p187 ... -206.982712277      0.0      0.0"
      ]
     },
     "execution_count": 18,
     "metadata": {},
     "output_type": "execute_result"
    }
   ],
   "source": [
    "Table(simspecfits['FIBERMAP'].read())"
   ]
  },
  {
   "cell_type": "markdown",
   "metadata": {},
   "source": [
    "### Regroup the simulated spectra."
   ]
  },
  {
   "cell_type": "code",
   "execution_count": 20,
   "metadata": {},
   "outputs": [
    {
     "name": "stdout",
     "output_type": "stream",
     "text": [
      "INFO:group_spectra.py:74:main: Starting at Fri Sep 29 16:25:29 2017\n",
      "INFO:group_spectra.py:75:main:   using raw dir /Users/ioannis/work/desi/spectro/sim/snesim-01\n",
      "INFO:group_spectra.py:76:main:   using spectro production dir /Users/ioannis/work/desi/spectro/redux/snesim-01\n",
      "INFO:group_spectra.py:197:main: Distributing 3 spectral groups among 1 processes\n",
      "INFO:group_spectra.py:220:main:   (0000) Begin spectral group spectra-64-4685 at Fri Sep 29 16:25:29 2017\n",
      "INFO:group_spectra.py:294:main:   (0000) End spectral group spectra-64-4685 at Fri Sep 29 16:25:30 2017\n",
      "INFO:group_spectra.py:220:main:   (0000) Begin spectral group spectra-64-4687 at Fri Sep 29 16:25:30 2017\n",
      "INFO:group_spectra.py:294:main:   (0000) End spectral group spectra-64-4687 at Fri Sep 29 16:25:32 2017\n",
      "INFO:group_spectra.py:220:main:   (0000) Begin spectral group spectra-64-4696 at Fri Sep 29 16:25:32 2017\n",
      "INFO:group_spectra.py:294:main:   (0000) End spectral group spectra-64-4696 at Fri Sep 29 16:25:33 2017\n",
      "INFO:group_spectra.py:301:main: Finishing at Fri Sep 29 16:25:33 2017\n"
     ]
    }
   ],
   "source": [
    "group_spectra.main(group_spectra.parse(['--hpxnside',str(nside)]))"
   ]
  },
  {
   "cell_type": "code",
   "execution_count": 21,
   "metadata": {},
   "outputs": [
    {
     "data": {
      "text/plain": [
       "\n",
       "  file: /Users/ioannis/work/desi/spectro/redux/snesim-01/spectra-64/46/4685/spectra-64-4685.fits\n",
       "  mode: READONLY\n",
       "  extnum hdutype         hduname[v]\n",
       "  0      IMAGE_HDU       \n",
       "  1      BINARY_TBL      FIBERMAP\n",
       "  2      IMAGE_HDU       B_WAVELENGTH\n",
       "  3      IMAGE_HDU       B_FLUX\n",
       "  4      IMAGE_HDU       B_IVAR\n",
       "  5      IMAGE_HDU       B_MASK\n",
       "  6      IMAGE_HDU       B_RESOLUTION\n",
       "  7      IMAGE_HDU       Z_WAVELENGTH\n",
       "  8      IMAGE_HDU       Z_FLUX\n",
       "  9      IMAGE_HDU       Z_IVAR\n",
       "  10     IMAGE_HDU       Z_MASK\n",
       "  11     IMAGE_HDU       Z_RESOLUTION\n",
       "  12     IMAGE_HDU       R_WAVELENGTH\n",
       "  13     IMAGE_HDU       R_FLUX\n",
       "  14     IMAGE_HDU       R_IVAR\n",
       "  15     IMAGE_HDU       R_MASK\n",
       "  16     IMAGE_HDU       R_RESOLUTION"
      ]
     },
     "execution_count": 21,
     "metadata": {},
     "output_type": "execute_result"
    }
   ],
   "source": [
    "specfile = desispec.io.findfile('spectra', nside=nside, groupname='4685')\n",
    "specfits = fitsio.FITS(specfile)\n",
    "specfits"
   ]
  },
  {
   "cell_type": "code",
   "execution_count": 22,
   "metadata": {},
   "outputs": [
    {
     "name": "stdout",
     "output_type": "stream",
     "text": [
      "Reading /Users/ioannis/work/desi/spectro/redux/snesim-01/spectra-64/46/4685/spectra-64-4685.fits\n"
     ]
    }
   ],
   "source": [
    "print('Reading {}'.format(specfile))\n",
    "specobj = desispec.io.read_spectra(specfile)"
   ]
  },
  {
   "cell_type": "code",
   "execution_count": 27,
   "metadata": {},
   "outputs": [
    {
     "data": {
      "text/plain": [
       "[<matplotlib.lines.Line2D at 0x11a249b00>]"
      ]
     },
     "execution_count": 27,
     "metadata": {},
     "output_type": "execute_result"
    },
    {
     "data": {
      "image/png": "[encoded data removed]",
      "text/plain": [
       "<matplotlib.figure.Figure at 0x11a249b38>"
      ]
     },
     "metadata": {},
     "output_type": "display_data"
    }
   ],
   "source": [
    "simwave, simflux = simspecfits['WAVE'][:], simspecfits['FLUX']\n",
    "fig, ax = plt.subplots()\n",
    "ax.plot(simwave, simflux[0, :].flat)"
   ]
  },
  {
   "cell_type": "code",
   "execution_count": 35,
   "metadata": {},
   "outputs": [],
   "source": [
    "def makeplot(thisone=0, ylim=None):\n",
    "    fig, ax = plt.subplots()\n",
    "    for camera, color in zip( ('b', 'r', 'z'), ('blue', 'red', 'magenta') ):\n",
    "        ax.plot(specobj.wave[camera], specobj.flux[camera][thisone], color=color)\n",
    "        #ax.plot(specobj.wave[camera], specobj.ivar[camera][thisone], color=color)\n",
    "\n",
    "    simwave, simflux = simspecfits['WAVE'][:], simspecfits['FLUX']\n",
    "    plt.plot(simwave, simflux[thisone, :].flat)\n",
    "\n",
    "    if ylim is not None:\n",
    "        ax.set_ylim(ylim)\n",
    "    ax.set_xlabel('Wavelength (A)')\n",
    "    ax.set_ylabel('Flux ($10^{-17}$ erg/s/cm$^2$)')"
   ]
  },
  {
   "cell_type": "code",
   "execution_count": 36,
   "metadata": {},
   "outputs": [
    {
     "data": {
      "image/png": "[encoded data removed]",
      "text/plain": [
       "<matplotlib.figure.Figure at 0x11df96ac8>"
      ]
     },
     "metadata": {},
     "output_type": "display_data"
    }
   ],
   "source": [
    "makeplot(thisone=0)"
   ]
  },
  {
   "cell_type": "code",
   "execution_count": 37,
   "metadata": {},
   "outputs": [
    {
     "data": {
      "image/png": "[encoded data removed]",
      "text/plain": [
       "<matplotlib.figure.Figure at 0x11b751160>"
      ]
     },
     "metadata": {},
     "output_type": "display_data"
    }
   ],
   "source": [
    "makeplot(thisone=0, ylim=(-10, 10))"
   ]
  },
  {
   "cell_type": "code",
   "execution_count": null,
   "metadata": {
    "collapsed": true
   },
   "outputs": [],
   "source": []
  }
 ],
 "metadata": {
  "kernelspec": {
   "display_name": "Python 3",
   "language": "python",
   "name": "python3"
  },
  "language_info": {
   "codemirror_mode": {
    "name": "ipython",
    "version": 3
   },
   "file_extension": ".py",
   "mimetype": "text/x-python",
   "name": "python",
   "nbconvert_exporter": "python",
   "pygments_lexer": "ipython3",
   "version": "3.5.3"
  }
 },
 "nbformat": 4,
 "nbformat_minor": 1
}
