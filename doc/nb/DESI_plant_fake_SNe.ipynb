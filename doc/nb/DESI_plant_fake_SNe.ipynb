{
 "cells": [
  {
   "cell_type": "code",
   "execution_count": 1,
   "metadata": {},
   "outputs": [],
   "source": [
    "import os\n",
    "import sys\n",
    "import numpy as np\n",
    "from scipy.io import loadmat\n",
    "from scipy import interpolate\n",
    "import matplotlib.pyplot as plt\n",
    "import matplotlib.mlab as mlab\n",
    "from astropy.io import fits\n",
    "from astropy.table import Table\n",
    "from astropy.cosmology import WMAP9 as cosmo\n",
    "%matplotlib inline"
   ]
  },
  {
   "cell_type": "code",
   "execution_count": 2,
   "metadata": {
    "collapsed": true
   },
   "outputs": [],
   "source": [
    "ngal=500\n",
    "seed=123\n",
    "rand = np.random.RandomState(seed)"
   ]
  },
  {
   "cell_type": "code",
   "execution_count": 3,
   "metadata": {
    "collapsed": true
   },
   "outputs": [],
   "source": [
    "# tts is a MxN matrix where M is the number of days for which there are templates and N is the wavelength range\n",
    "# wws gives the wavelength range\n",
    "hsiao = fits.open('/home/orgraur/programs/desi/spectro/templates/basis_templates/v2.1/sne_templates_v1.0.fits')\n",
    "tts = hsiao[0].data\n",
    "wws = np.arange(100,25000,10)"
   ]
  },
  {
   "cell_type": "code",
   "execution_count": 4,
   "metadata": {
    "collapsed": true
   },
   "outputs": [],
   "source": [
    "# SN Ia LF from Richardson et al. (2014), Table 1\n",
    "M_B = -19.25 \n",
    "M_sig = 0.5 \n",
    "alpha = 1.52"
   ]
  },
  {
   "cell_type": "code",
   "execution_count": 5,
   "metadata": {},
   "outputs": [],
   "source": [
    "# Johnson B-band light curve template\n",
    "#   (0) - epoch relative to B-band maximum [day]\n",
    "#   (1) - B mag [AB]\n",
    "#   (2) - SDSS r' mag\n",
    "#   (3) - DECAM_2014 r mag\n",
    "#   (4) - DECAM_2014 z mag\n",
    "lc_data = loadmat('trunk/light_curve_B_normalized_DESI.mat' )\n",
    "lc = lc_data['lc']\n",
    "days = lc_data['lc'][:,0]\n",
    "L0 = lc_data['lc'][:,1]"
   ]
  },
  {
   "cell_type": "code",
   "execution_count": 6,
   "metadata": {
    "collapsed": true
   },
   "outputs": [],
   "source": [
    "# load the color correction vector (going from R to DECAM r', for BSG, or DECAM z', for LRG)\n",
    "survey = 1 # let's go with BGS as the default\n",
    "if survey == 1:\n",
    "    color = loadmat('/home/orgraur/matlab/desi/decam_r_color.mat')\n",
    "else:\n",
    "    color = loadmat('/home/orgraur/matlab/desi/decam_z_color.mat')\n",
    "color = color['color'][:,0]"
   ]
  },
  {
   "cell_type": "code",
   "execution_count": 7,
   "metadata": {
    "collapsed": true
   },
   "outputs": [],
   "source": [
    "# choose which SN templates to use\n",
    "tempint = 0 # easy way - use integer template IDs and phases\n",
    "if tempint == 0:\n",
    "    # random SN template IDs\n",
    "    sntemp = rand.randint(0, len(days), size=ngal)\n",
    "    phase = days[sntemp] # the phases of those SN templates\n",
    "else:\n",
    "    # Choose the phase with uniform probability between the min/max (ignoring template ID).\n",
    "    phase = rand.uniform(days.min(), days.max(), size=ngal)\n",
    "    # this is where we would interpolate between templates... not necessary for now"
   ]
  },
  {
   "cell_type": "code",
   "execution_count": 8,
   "metadata": {},
   "outputs": [],
   "source": [
    "redshift = rand.uniform(0.01, 0.4, size=ngal) # uniform distribution in redshift 0<z<0.4\n",
    "rgal = rand.normal(19, 1.8, size=ngal) # uniform distribution in galaxy r-band mag 12<r<22"
   ]
  },
  {
   "cell_type": "code",
   "execution_count": 9,
   "metadata": {},
   "outputs": [],
   "source": [
    "# calculate the distance modulii of the redshifts generated above\n",
    "dm = cosmo.distmod(redshift)"
   ]
  },
  {
   "cell_type": "code",
   "execution_count": 10,
   "metadata": {},
   "outputs": [],
   "source": [
    "# generate random stretch values\n",
    "\n",
    "# stretch vs epoch relation\n",
    "smag = loadmat('trunk/stretch_mag.mat')\n",
    "\n",
    "m = rand.normal(0, M_sig, size=ngal)\n",
    "\n",
    "s = -0.6579*m +1\n",
    "x = np.where(np.logical_or(s<0.6, s>1.4))[0]\n",
    "#print(m[x])\n",
    "while len(x) != 0:\n",
    "    x = np.where(np.logical_or(s<0.6, s>1.4))[0]\n",
    "    m[x] = rand.normal(0, M_sig, size=len(x))\n",
    "    s[x] = -0.6579*m[x] +1\n",
    "    \n",
    "M = M_B + m # randomize the absolute magnitudes"
   ]
  },
  {
   "cell_type": "code",
   "execution_count": 12,
   "metadata": {},
   "outputs": [],
   "source": [
    "factor = np.zeros(ngal)\n",
    "for i in range(0, ngal):\n",
    "    f_host = 10**(-0.4*(rgal[i]+48.6)) # host-galaxy r'-band mag\n",
    "    \n",
    "    # stretch the fiducial SN Ia light curve and get the SN Ia mag\n",
    "    lightcurves = [lc[:,0]*s[i], lc[:,1]-alpha*(s[i]-1)]\n",
    "    fun = interpolate.interp1d(lightcurves[0], lightcurves[1], fill_value='extrapolate')\n",
    "    LC_interp = fun(days)\n",
    "    Norm=-L0+LC_interp\n",
    "    \n",
    "    fun1 = interpolate.interp1d(lightcurves[0],Norm, fill_value='extrapolate')\n",
    "    fun2 = interpolate.interp1d(days,color, fill_value='extrapolate')\n",
    "    \n",
    "    mag_sn = M[i] + dm[i].value + fun1(phase[i]) + fun2(phase[i])\n",
    "    \n",
    "    f_sn = 10**(-0.4*(mag_sn+48.6))\n",
    "    factor[i] = f_sn/f_host # the flux factor between the SN and host galaxy"
   ]
  },
  {
   "cell_type": "code",
   "execution_count": null,
   "metadata": {},
   "outputs": [],
   "source": [
    "fig = plt.hist(factor)"
   ]
  },
  {
   "cell_type": "code",
   "execution_count": null,
   "metadata": {
    "collapsed": true
   },
   "outputs": [],
   "source": []
  }
 ],
 "metadata": {
  "kernelspec": {
   "display_name": "Python 3",
   "language": "python",
   "name": "python3"
  },
  "language_info": {
   "codemirror_mode": {
    "name": "ipython",
    "version": 3
   },
   "file_extension": ".py",
   "mimetype": "text/x-python",
   "name": "python",
   "nbconvert_exporter": "python",
   "pygments_lexer": "ipython3",
   "version": "3.5.3"
  }
 },
 "nbformat": 4,
 "nbformat_minor": 2
}
